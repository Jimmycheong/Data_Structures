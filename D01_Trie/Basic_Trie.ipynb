{
 "cells": [
  {
   "cell_type": "code",
   "execution_count": null,
   "metadata": {},
   "outputs": [],
   "source": [
    "'''\n",
    "General Procedure\n",
    "\n",
    "1. Create a root node \n",
    "2. Add some words to the trie\n",
    "3. Search the trie for a prefix\n",
    "\n",
    "'''"
   ]
  },
  {
   "cell_type": "code",
   "execution_count": 1,
   "metadata": {},
   "outputs": [],
   "source": [
    "class Node:\n",
    "    \"\"\"\n",
    "    Node of the trie data structure\n",
    "    \"\"\"\n",
    "    \n",
    "    def __init__(self, letter: str):\n",
    "        self.letter = letter\n",
    "        self.children = []"
   ]
  },
  {
   "cell_type": "code",
   "execution_count": 2,
   "metadata": {},
   "outputs": [],
   "source": [
    "from typing import List\n",
    "\n",
    "def check_children_letters(list_: List[Node]):\n",
    "    return list(map(lambda s: s.letter, list_))"
   ]
  },
  {
   "cell_type": "code",
   "execution_count": 3,
   "metadata": {},
   "outputs": [],
   "source": [
    "def create_root_node():\n",
    "    return Node(\"*\")"
   ]
  },
  {
   "cell_type": "code",
   "execution_count": 4,
   "metadata": {},
   "outputs": [],
   "source": [
    "def get_child_node(parent: Node, char: str) -> Node:\n",
    "    filtered = list(filter(lambda s: s.letter == char , parent.children))\n",
    "    return filtered[0]"
   ]
  },
  {
   "cell_type": "code",
   "execution_count": 5,
   "metadata": {},
   "outputs": [],
   "source": [
    "def add_word_to_trie(node: Node, word: str):\n",
    "    \n",
    "    # Search through each character of the word and check if\n",
    "    # it exists in the trie\n",
    "    \n",
    "    for char in word: \n",
    "        children_letters = check_children_letters(node.children)\n",
    "        if char not in children_letters:\n",
    "            node.children += [Node(char)]\n",
    "        child_node = get_child_node(node, char)\n",
    "        node = child_node"
   ]
  },
  {
   "cell_type": "code",
   "execution_count": 6,
   "metadata": {},
   "outputs": [],
   "source": [
    "'''\n",
    "Testing add_word_to_trie()\n",
    "'''\n",
    "\n",
    "root = create_root_node()\n",
    "\n",
    "add_word_to_trie(root, \"hello\")\n",
    "\n",
    "child_1 = root.children[0]\n",
    "assert child_1.letter == \"h\"\n",
    "\n",
    "child_2 = child_1.children[0]\n",
    "assert child_2.letter == \"e\"\n",
    "\n",
    "child_3 = child_2.children[0]\n",
    "assert child_3.letter == \"l\""
   ]
  },
  {
   "cell_type": "code",
   "execution_count": 7,
   "metadata": {},
   "outputs": [],
   "source": [
    "def find_prefix(root, prefix: str): \n",
    "    \n",
    "    node = root \n",
    "    for char in prefix:         \n",
    "        print(f\"list of children: {check_children_letters(node.children)}\")\n",
    "        if char not in check_children_letters(node.children):\n",
    "            print(f\"not found at char: {char}\")\n",
    "            return False \n",
    "        node = get_child_node(node, char)\n",
    "    print(\"found!\")\n",
    "    return True"
   ]
  },
  {
   "cell_type": "code",
   "execution_count": 9,
   "metadata": {},
   "outputs": [
    {
     "name": "stdout",
     "output_type": "stream",
     "text": [
      "list of children: ['h', 's']\n",
      "list of children: ['a']\n",
      "list of children: ['d']\n",
      "found!\n"
     ]
    }
   ],
   "source": [
    "'''\n",
    "Testing find_prefix()\n",
    "'''\n",
    "\n",
    "root = create_root_node()\n",
    "\n",
    "add_word_to_trie(root,\"happy\")\n",
    "add_word_to_trie(root,\"sad\")\n",
    "\n",
    "is_found = find_prefix(root, \"sad\")\n",
    "\n",
    "assert is_found == True"
   ]
  }
 ],
 "metadata": {
  "kernelspec": {
   "display_name": "Python 3",
   "language": "python",
   "name": "python3"
  },
  "language_info": {
   "codemirror_mode": {
    "name": "ipython",
    "version": 3
   },
   "file_extension": ".py",
   "mimetype": "text/x-python",
   "name": "python",
   "nbconvert_exporter": "python",
   "pygments_lexer": "ipython3",
   "version": "3.6.5"
  }
 },
 "nbformat": 4,
 "nbformat_minor": 2
}
